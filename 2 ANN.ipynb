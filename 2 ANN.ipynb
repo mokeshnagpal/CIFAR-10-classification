{
 "cells": [
  {
   "cell_type": "code",
   "execution_count": 1,
   "id": "dbdc31b4-91c6-422d-aa3e-f30e599922f5",
   "metadata": {},
   "outputs": [],
   "source": [
    "import tensorflow as tf\n",
    "import matplotlib.pyplot as plt\n",
    "import numpy as np"
   ]
  },
  {
   "cell_type": "code",
   "execution_count": 2,
   "id": "4e4646e8-3f1d-41c5-9643-557a100846e9",
   "metadata": {},
   "outputs": [
    {
     "data": {
      "text/plain": [
       "[PhysicalDevice(name='/physical_device:CPU:0', device_type='CPU'),\n",
       " PhysicalDevice(name='/physical_device:GPU:0', device_type='GPU')]"
      ]
     },
     "execution_count": 2,
     "metadata": {},
     "output_type": "execute_result"
    }
   ],
   "source": [
    "tf.config.experimental.list_physical_devices()"
   ]
  },
  {
   "cell_type": "code",
   "execution_count": 3,
   "id": "bd673e18-61fc-4b5a-87b2-8fe228ef3b14",
   "metadata": {},
   "outputs": [
    {
     "data": {
      "text/plain": [
       "'2.10.1'"
      ]
     },
     "execution_count": 3,
     "metadata": {},
     "output_type": "execute_result"
    }
   ],
   "source": [
    "tf.__version__"
   ]
  },
  {
   "cell_type": "code",
   "execution_count": 4,
   "id": "893cf8d9-e794-4989-9d95-ac21f585c40b",
   "metadata": {},
   "outputs": [
    {
     "data": {
      "text/plain": [
       "True"
      ]
     },
     "execution_count": 4,
     "metadata": {},
     "output_type": "execute_result"
    }
   ],
   "source": [
    "tf.test.is_built_with_cuda()"
   ]
  },
  {
   "cell_type": "code",
   "execution_count": 5,
   "id": "d035b7ea-35d2-426e-88c7-f0018a65752d",
   "metadata": {},
   "outputs": [],
   "source": [
    "(x_train, y_train), (x_test, y_test) = tf.keras.datasets.cifar10.load_data()"
   ]
  },
  {
   "cell_type": "code",
   "execution_count": 6,
   "id": "4e9935a2-def3-477e-a407-68cbac53417b",
   "metadata": {},
   "outputs": [
    {
     "data": {
      "text/plain": [
       "(50000, 1024)"
      ]
     },
     "execution_count": 6,
     "metadata": {},
     "output_type": "execute_result"
    }
   ],
   "source": [
    "x_train_new = np.zeros((x_train.shape[0], x_train.shape[1]*x_train.shape[2]))\n",
    "x_train_new.shape"
   ]
  },
  {
   "cell_type": "code",
   "execution_count": 7,
   "id": "d0057026-2f9a-4973-b66e-1773f60d4cf3",
   "metadata": {},
   "outputs": [
    {
     "data": {
      "image/png": "[encoded data removed]",
      "text/plain": [
       "<Figure size 1000x100 with 1 Axes>"
      ]
     },
     "metadata": {},
     "output_type": "display_data"
    }
   ],
   "source": [
    "def plot_img(index):\n",
    "    plt.figure(figsize = (10,1))\n",
    "    plt.imshow(x_train[index])\n",
    "\n",
    "plot_img(12)"
   ]
  },
  {
   "cell_type": "code",
   "execution_count": 8,
   "id": "69222f56-8932-4a33-b9fd-62974268df1b",
   "metadata": {},
   "outputs": [],
   "source": [
    "classes = [\"airplane\",\"automobile\",\"bird\",\"cat\",\"deer\",\"dog\",\"frog\",\"horse\",\"ship\",\"truck\"]"
   ]
  },
  {
   "cell_type": "code",
   "execution_count": 9,
   "id": "2f1a4899-1c07-4a9c-b593-cf279e643e51",
   "metadata": {},
   "outputs": [],
   "source": [
    "x_train_scaled = x_train/255\n",
    "x_test_scaled = x_test/255"
   ]
  },
  {
   "cell_type": "code",
   "execution_count": 10,
   "id": "ede93217-ad8e-49da-80be-65873056e793",
   "metadata": {},
   "outputs": [],
   "source": [
    "#one hot encoding\n",
    "y_train_categorical = tf.keras.utils.to_categorical(y_train, num_classes =10, dtype ='float32')"
   ]
  },
  {
   "cell_type": "code",
   "execution_count": 11,
   "id": "32489f99-43ba-4af5-afd6-9f6116f914de",
   "metadata": {},
   "outputs": [],
   "source": [
    "def get_model():\n",
    "    model = tf.keras.Sequential([\n",
    "        tf.keras.layers.Flatten(input_shape = (32,32,3)),    #how many value at once will be supplied  (here there are (32*32*3) MATRIX)\n",
    "        tf.keras.layers.Dense(3072, activation = \"leaky_relu\"),\n",
    "        tf.keras.layers.Dense(1536, activation = \"leaky_relu\"),\n",
    "        tf.keras.layers.Dense(768, activation = \"leaky_relu\"),\n",
    "        tf.keras.layers.Dense(384, activation = \"leaky_relu\"),\n",
    "        tf.keras.layers.Dense(10, activation = \"softmax\")\n",
    "    ])\n",
    "    model.compile(optimizer = \"adam\",\n",
    "                  loss = \"categorical_crossentropy\",\n",
    "                  metrics = [\"accuracy\"])\n",
    "    return model"
   ]
  },
  {
   "cell_type": "code",
   "execution_count": null,
   "id": "84070f12-18d8-44ac-a790-f1ad38f630a5",
   "metadata": {
    "scrolled": true
   },
   "outputs": [
    {
     "name": "stdout",
     "output_type": "stream",
     "text": [
      "Epoch 1/1000\n",
      "1563/1563 [==============================] - 12s 7ms/step - loss: 2.0890 - accuracy: 0.2786\n",
      "Epoch 2/1000\n",
      " 631/1563 [===========>..................] - ETA: 6s - loss: 1.8308 - accuracy: 0.3381"
     ]
    }
   ],
   "source": [
    "with tf.device('/GPU:0'):\n",
    "    cpu_model = get_model()\n",
    "    early_stopping = tf.keras.callbacks.EarlyStopping(monitor='accuracy', patience=10, restore_best_weights=True)\n",
    "    cpu_model.fit( x_train_scaled, y_train_categorical, epochs = 1000, callbacks=[early_stopping])\n",
    "    "
   ]
  },
  {
   "cell_type": "code",
   "execution_count": null,
   "id": "ac40353a-7c6c-417e-bd16-f2afea3f3a91",
   "metadata": {},
   "outputs": [],
   "source": [
    "pos = 1\n",
    "classes[[np.argmax(model.predict(x_test_scaled[pos]))] == classes[y_test[pos][0]]"
   ]
  }
 ],
 "metadata": {
  "kernelspec": {
   "display_name": "Python 3 (ipykernel)",
   "language": "python",
   "name": "python3"
  },
  "language_info": {
   "codemirror_mode": {
    "name": "ipython",
    "version": 3
   },
   "file_extension": ".py",
   "mimetype": "text/x-python",
   "name": "python",
   "nbconvert_exporter": "python",
   "pygments_lexer": "ipython3",
   "version": "3.12.3"
  }
 },
 "nbformat": 4,
 "nbformat_minor": 5
}

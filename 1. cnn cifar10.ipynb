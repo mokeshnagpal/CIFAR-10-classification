{
 "cells": [
  {
   "cell_type": "code",
   "execution_count": 2,
   "id": "fbf404f1-e520-4797-9064-9b1b86e201ff",
   "metadata": {
    "editable": true,
    "slideshow": {
     "slide_type": ""
    },
    "tags": []
   },
   "outputs": [],
   "source": [
    "import tensorflow as tf\n",
    "from tensorflow import keras\n",
    "import matplotlib.pyplot as plt\n",
    "%matplotlib inline\n",
    "import numpy as np"
   ]
  },
  {
   "cell_type": "code",
   "execution_count": 3,
   "id": "d895d8fe-2d6c-4bb8-a243-d044baed1dd9",
   "metadata": {},
   "outputs": [],
   "source": [
    "(x_train, y_train), (x_test, y_test) = keras.datasets.cifar10.load_data()"
   ]
  },
  {
   "cell_type": "code",
   "execution_count": 4,
   "id": "ec3df64b-a024-42d1-9a93-4a8d5faa7fb2",
   "metadata": {},
   "outputs": [
    {
     "data": {
      "text/plain": [
       "(50000, 32, 32, 3)"
      ]
     },
     "execution_count": 4,
     "metadata": {},
     "output_type": "execute_result"
    }
   ],
   "source": [
    "x_train.shape"
   ]
  },
  {
   "cell_type": "code",
   "execution_count": 5,
   "id": "7c482def-a4ff-4ccf-b53e-8b7537139f3f",
   "metadata": {},
   "outputs": [
    {
     "data": {
      "text/plain": [
       "(50000, 1)"
      ]
     },
     "execution_count": 5,
     "metadata": {},
     "output_type": "execute_result"
    }
   ],
   "source": [
    "y_train.shape"
   ]
  },
  {
   "cell_type": "code",
   "execution_count": 6,
   "id": "5dbf6a4b-dd5e-4c96-b510-5a83d9533882",
   "metadata": {},
   "outputs": [
    {
     "data": {
      "text/plain": [
       "array([0, 1, 2, 3, 4, 5, 6, 7, 8, 9], dtype=uint8)"
      ]
     },
     "execution_count": 6,
     "metadata": {},
     "output_type": "execute_result"
    }
   ],
   "source": [
    "np.unique(y_train)"
   ]
  },
  {
   "cell_type": "code",
   "execution_count": 7,
   "id": "24f447a9-048e-4ac7-807f-b5a839a4886f",
   "metadata": {},
   "outputs": [],
   "source": [
    "image_classes = [\"airplane\", \"automobile\", \"bird\", \"cat\", \"deer\" , \"dog\" ,\"frog\" ,\"horse\", \"ship\", \"truck\"]"
   ]
  },
  {
   "cell_type": "code",
   "execution_count": 8,
   "id": "9b80d851-f5ed-43d3-832d-35660e06d34b",
   "metadata": {},
   "outputs": [],
   "source": [
    "def plot(x , y, index):\n",
    "    plt.figure(figsize = (15, 2))\n",
    "    plt.imshow(x[index])\n",
    "    plt.xlabel(images_classes[y])"
   ]
  },
  {
   "cell_type": "code",
   "execution_count": 9,
   "id": "bad22b12-4780-4210-93ed-fa144580e38f",
   "metadata": {},
   "outputs": [],
   "source": [
    "x_train = x_train/255"
   ]
  },
  {
   "cell_type": "code",
   "execution_count": 10,
   "id": "39907053-0642-44dd-b28b-e989b6e6cebe",
   "metadata": {},
   "outputs": [],
   "source": [
    "x_test = x_test/255"
   ]
  },
  {
   "cell_type": "code",
   "execution_count": 11,
   "id": "ffa86be7-b0a2-4f02-89a0-5c631b5f3ef3",
   "metadata": {},
   "outputs": [
    {
     "data": {
      "text/plain": [
       "(32, 32, 3)"
      ]
     },
     "execution_count": 11,
     "metadata": {},
     "output_type": "execute_result"
    }
   ],
   "source": [
    "x_train[0].shape"
   ]
  },
  {
   "cell_type": "code",
   "execution_count": 12,
   "id": "49f983c9-4367-416f-a452-c52cd1d66b1c",
   "metadata": {},
   "outputs": [],
   "source": [
    "def get_model():\n",
    "    model = keras.Sequential([\n",
    "        keras.layers.Flatten(input_shape = x_train[0].shape),    #how many value at once will be supplied  (here there are (32*32*3) MATRIX)\n",
    "        keras.layers.Dense(3072, activation = \"leaky_relu\"),\n",
    "        keras.layers.Dense(1536, activation = \"leaky_relu\"),\n",
    "        keras.layers.Dense(768, activation = \"leaky_relu\"),\n",
    "        keras.layers.Dense(384, activation = \"leaky_relu\"),\n",
    "        keras.layers.Dense(len(np.unique(y_train)), activation = \"softmax\")\n",
    "    ])\n",
    "    model.compile(optimizer = \"adam\",\n",
    "                  loss = \"sparse_categorical_crossentropy\",\n",
    "                  metrics = [\"accuracy\"])\n",
    "    return model"
   ]
  },
  {
   "cell_type": "code",
   "execution_count": 13,
   "id": "07093b2f-4d08-4258-a31a-b1e756e4a253",
   "metadata": {
    "scrolled": true
   },
   "outputs": [
    {
     "name": "stdout",
     "output_type": "stream",
     "text": [
      "Epoch 1/5\n",
      "1563/1563 [==============================] - 12s 7ms/step - loss: 2.0646 - accuracy: 0.2772\n",
      "Epoch 2/5\n",
      "1563/1563 [==============================] - 11s 7ms/step - loss: 45.3648 - accuracy: 0.2720\n",
      "Epoch 3/5\n",
      "1563/1563 [==============================] - 11s 7ms/step - loss: 2.3906 - accuracy: 0.2702\n",
      "Epoch 4/5\n",
      "1563/1563 [==============================] - 12s 8ms/step - loss: 1.9763 - accuracy: 0.3145\n",
      "Epoch 5/5\n",
      "1563/1563 [==============================] - 12s 8ms/step - loss: 9.9368 - accuracy: 0.3054\n"
     ]
    }
   ],
   "source": [
    "with tf.device('/GPU:0'):\n",
    "    model = get_model()\n",
    "    early_stopping = tf.keras.callbacks.EarlyStopping(monitor='accuracy', patience=10, restore_best_weights=True)\n",
    "    model.fit( x_train, y_train, epochs = 5, callbacks=[early_stopping])\n",
    "    "
   ]
  },
  {
   "cell_type": "code",
   "execution_count": 14,
   "id": "60f555bd-7602-40d9-8466-1e096f9be697",
   "metadata": {},
   "outputs": [
    {
     "name": "stdout",
     "output_type": "stream",
     "text": [
      "313/313 [==============================] - 1s 4ms/step - loss: 1.7514 - accuracy: 0.3740\n"
     ]
    },
    {
     "data": {
      "text/plain": [
       "[1.7513957023620605, 0.37400001287460327]"
      ]
     },
     "execution_count": 14,
     "metadata": {},
     "output_type": "execute_result"
    }
   ],
   "source": [
    "model.evaluate(x_test, y_test)"
   ]
  },
  {
   "cell_type": "code",
   "execution_count": 15,
   "id": "d29b09d0-7910-49e2-bc2c-8eda7f529daa",
   "metadata": {},
   "outputs": [
    {
     "name": "stdout",
     "output_type": "stream",
     "text": [
      "313/313 [==============================] - 1s 2ms/step\n"
     ]
    }
   ],
   "source": [
    "y_predict = model.predict(x_test)"
   ]
  },
  {
   "cell_type": "code",
   "execution_count": 16,
   "id": "3a9e5a67-41d3-44b6-82c4-3a4dabe4a866",
   "metadata": {},
   "outputs": [],
   "source": [
    "classes = [np.argmax(i) for i in y_predict]"
   ]
  },
  {
   "cell_type": "code",
   "execution_count": 17,
   "id": "f085fe19-e4f8-491b-81a1-1f6bfe765656",
   "metadata": {},
   "outputs": [
    {
     "name": "stdout",
     "output_type": "stream",
     "text": [
      "              precision    recall  f1-score   support\n",
      "\n",
      "           0       0.50      0.46      0.48      1000\n",
      "           1       0.44      0.66      0.53      1000\n",
      "           2       0.29      0.09      0.13      1000\n",
      "           3       0.21      0.71      0.33      1000\n",
      "           4       0.41      0.28      0.34      1000\n",
      "           5       0.44      0.01      0.02      1000\n",
      "           6       0.50      0.26      0.34      1000\n",
      "           7       0.48      0.41      0.44      1000\n",
      "           8       0.46      0.51      0.48      1000\n",
      "           9       0.49      0.36      0.41      1000\n",
      "\n",
      "    accuracy                           0.37     10000\n",
      "   macro avg       0.42      0.37      0.35     10000\n",
      "weighted avg       0.42      0.37      0.35     10000\n",
      "\n"
     ]
    }
   ],
   "source": [
    "from sklearn.metrics import confusion_matrix, classification_report\n",
    "cr = classification_report(y_test, classes)\n",
    "print(cr)"
   ]
  },
  {
   "cell_type": "code",
   "execution_count": 18,
   "id": "9c293e51-80ff-4060-9604-4f2677338012",
   "metadata": {},
   "outputs": [
    {
     "data": {
      "text/plain": [
       "(32, 32, 3)"
      ]
     },
     "execution_count": 18,
     "metadata": {},
     "output_type": "execute_result"
    }
   ],
   "source": [
    "x_train[0].shape"
   ]
  },
  {
   "cell_type": "code",
   "execution_count": 12,
   "id": "fa342734-1fc5-4a5f-adfb-178b9014522e",
   "metadata": {},
   "outputs": [],
   "source": [
    "def get_model():\n",
    "    model = keras.Sequential([\n",
    "        keras.layers.Input(x_train[0].shape),\n",
    "        keras.layers.Conv2D(filters =32, kernel_size = (3,3), activation = 'relu'), #how many value at once will be supplied  (here there are (32*32*3) MATRIX)\n",
    "        keras.layers.MaxPooling2D((2,2)),\n",
    "        keras.layers.Conv2D(filters =64, kernel_size = (3,3), activation = 'relu'),\n",
    "        keras.layers.MaxPooling2D((2,2)),\n",
    "        keras.layers.Flatten(),    \n",
    "        keras.layers.Dense(3072, activation = \"leaky_relu\"),\n",
    "        keras.layers.Dense(1536, activation = \"leaky_relu\"),\n",
    "        keras.layers.Dense(len(np.unique(y_train)), activation = \"softmax\")\n",
    "    ])\n",
    "    model.compile(optimizer = \"adam\",\n",
    "                  loss = \"sparse_categorical_crossentropy\",\n",
    "                  metrics = [\"accuracy\"])\n",
    "    return model"
   ]
  },
  {
   "cell_type": "code",
   "execution_count": null,
   "id": "142fcf2a-6663-4e3b-a49a-58bc73462aee",
   "metadata": {},
   "outputs": [
    {
     "name": "stdout",
     "output_type": "stream",
     "text": [
      "Epoch 1/100\n",
      "\u001b[1m6250/6250\u001b[0m \u001b[32m━━━━━━━━━━━━━━━━━━━━\u001b[0m\u001b[37m\u001b[0m \u001b[1m566s\u001b[0m 90ms/step - accuracy: 0.3664 - loss: 1.7092\n",
      "Epoch 2/100\n",
      "\u001b[1m 629/6250\u001b[0m \u001b[32m━━\u001b[0m\u001b[37m━━━━━━━━━━━━━━━━━━\u001b[0m \u001b[1m9:21\u001b[0m 100ms/step - accuracy: 0.5589 - loss: 1.2496"
     ]
    }
   ],
   "source": [
    "with tf.device('/GPU:0'):\n",
    "    model = get_model()\n",
    "    early_stopping = keras.callbacks.EarlyStopping(monitor='accuracy', patience=10, restore_best_weights=True)\n",
    "    model.fit( x_train, y_train, epochs = 100, callbacks=[early_stopping], batch_size=8)\n",
    "    "
   ]
  },
  {
   "cell_type": "code",
   "execution_count": null,
   "id": "06d6baaa-9ae4-490f-b5fc-bdb62a992605",
   "metadata": {},
   "outputs": [],
   "source": [
    "model.evaluate(x_test, y_test)"
   ]
  },
  {
   "cell_type": "code",
   "execution_count": null,
   "id": "9359c674-87a7-49d3-9c11-7c1d037f4137",
   "metadata": {},
   "outputs": [],
   "source": [
    "y_predict = model.predict(x_test)"
   ]
  },
  {
   "cell_type": "code",
   "execution_count": null,
   "id": "2532a88b-1f35-4247-9a2a-b71d1ae71214",
   "metadata": {},
   "outputs": [],
   "source": [
    "classes = [np.argmax(i) for i in y_predict]"
   ]
  },
  {
   "cell_type": "code",
   "execution_count": null,
   "id": "7523c4d1-efe2-4e73-839a-c81b59ea113a",
   "metadata": {},
   "outputs": [],
   "source": [
    "from sklearn.metrics import confusion_matrix, classification_report\n",
    "cr = classification_report(y_test, classes)\n",
    "print(cr)"
   ]
  }
 ],
 "metadata": {
  "kernelspec": {
   "display_name": "Python 3 (ipykernel)",
   "language": "python",
   "name": "python3"
  },
  "language_info": {
   "codemirror_mode": {
    "name": "ipython",
    "version": 3
   },
   "file_extension": ".py",
   "mimetype": "text/x-python",
   "name": "python",
   "nbconvert_exporter": "python",
   "pygments_lexer": "ipython3",
   "version": "3.9.19"
  }
 },
 "nbformat": 4,
 "nbformat_minor": 5
}
